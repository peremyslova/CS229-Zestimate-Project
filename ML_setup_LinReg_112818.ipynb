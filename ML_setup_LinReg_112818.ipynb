{
 "cells": [
  {
   "cell_type": "code",
   "execution_count": 5,
   "metadata": {},
   "outputs": [],
   "source": [
    "#from __future__ import division\n",
    "import numpy as np\n",
    "import pandas as pd\n",
    "%matplotlib inline\n",
    "import matplotlib.pyplot as plt"
   ]
  },
  {
   "cell_type": "code",
   "execution_count": 2,
   "metadata": {},
   "outputs": [],
   "source": [
    "#import tensorflow as tf\n",
    "#from tensorflow.keras import Sequential\n",
    "#from tensorflow.keras.layers import Dense"
   ]
  },
  {
   "cell_type": "code",
   "execution_count": 6,
   "metadata": {},
   "outputs": [
    {
     "data": {
      "text/html": [
       "<div>\n",
       "<style scoped>\n",
       "    .dataframe tbody tr th:only-of-type {\n",
       "        vertical-align: middle;\n",
       "    }\n",
       "\n",
       "    .dataframe tbody tr th {\n",
       "        vertical-align: top;\n",
       "    }\n",
       "\n",
       "    .dataframe thead th {\n",
       "        text-align: right;\n",
       "    }\n",
       "</style>\n",
       "<table border=\"1\" class=\"dataframe\">\n",
       "  <thead>\n",
       "    <tr style=\"text-align: right;\">\n",
       "      <th></th>\n",
       "      <th>PicCount</th>\n",
       "      <th>List Price</th>\n",
       "      <th>Sold Price</th>\n",
       "      <th>Tot BR</th>\n",
       "      <th>Tot Baths</th>\n",
       "      <th>TotFlArea</th>\n",
       "      <th>Age</th>\n",
       "      <th>TotalPrkng</th>\n",
       "      <th># Rms</th>\n",
       "      <th>Fireplaces</th>\n",
       "      <th>...</th>\n",
       "      <th>Zoning 159</th>\n",
       "      <th>Zoning 160</th>\n",
       "      <th>Zoning 161</th>\n",
       "      <th>Zoning 162</th>\n",
       "      <th>Zoning 163</th>\n",
       "      <th>Zoning 164</th>\n",
       "      <th>Zoning 165</th>\n",
       "      <th>Zoning 166</th>\n",
       "      <th>Zoning 167</th>\n",
       "      <th>Zoning 168</th>\n",
       "    </tr>\n",
       "  </thead>\n",
       "  <tbody>\n",
       "    <tr>\n",
       "      <th>R2050687</th>\n",
       "      <td>-2.302161</td>\n",
       "      <td>-0.861236</td>\n",
       "      <td>-0.914670</td>\n",
       "      <td>-0.657683</td>\n",
       "      <td>-0.807609</td>\n",
       "      <td>-0.862037</td>\n",
       "      <td>-0.520211</td>\n",
       "      <td>-0.127012</td>\n",
       "      <td>-1.111587</td>\n",
       "      <td>1.527118</td>\n",
       "      <td>...</td>\n",
       "      <td>0.0</td>\n",
       "      <td>0.0</td>\n",
       "      <td>0.0</td>\n",
       "      <td>0.0</td>\n",
       "      <td>0.0</td>\n",
       "      <td>0.0</td>\n",
       "      <td>0.0</td>\n",
       "      <td>0.0</td>\n",
       "      <td>0.0</td>\n",
       "      <td>0.0</td>\n",
       "    </tr>\n",
       "    <tr>\n",
       "      <th>R2050161</th>\n",
       "      <td>-2.643100</td>\n",
       "      <td>-0.344493</td>\n",
       "      <td>-0.385520</td>\n",
       "      <td>0.869434</td>\n",
       "      <td>0.947883</td>\n",
       "      <td>0.213822</td>\n",
       "      <td>-0.287701</td>\n",
       "      <td>-0.127012</td>\n",
       "      <td>0.155713</td>\n",
       "      <td>1.527118</td>\n",
       "      <td>...</td>\n",
       "      <td>0.0</td>\n",
       "      <td>0.0</td>\n",
       "      <td>0.0</td>\n",
       "      <td>0.0</td>\n",
       "      <td>0.0</td>\n",
       "      <td>0.0</td>\n",
       "      <td>0.0</td>\n",
       "      <td>0.0</td>\n",
       "      <td>0.0</td>\n",
       "      <td>0.0</td>\n",
       "    </tr>\n",
       "    <tr>\n",
       "      <th>R2049384</th>\n",
       "      <td>0.766285</td>\n",
       "      <td>-0.038619</td>\n",
       "      <td>0.480363</td>\n",
       "      <td>0.869434</td>\n",
       "      <td>0.947883</td>\n",
       "      <td>0.086644</td>\n",
       "      <td>0.099816</td>\n",
       "      <td>-0.127012</td>\n",
       "      <td>0.155713</td>\n",
       "      <td>1.527118</td>\n",
       "      <td>...</td>\n",
       "      <td>0.0</td>\n",
       "      <td>0.0</td>\n",
       "      <td>0.0</td>\n",
       "      <td>0.0</td>\n",
       "      <td>0.0</td>\n",
       "      <td>0.0</td>\n",
       "      <td>0.0</td>\n",
       "      <td>0.0</td>\n",
       "      <td>0.0</td>\n",
       "      <td>0.0</td>\n",
       "    </tr>\n",
       "  </tbody>\n",
       "</table>\n",
       "<p>3 rows × 775 columns</p>\n",
       "</div>"
      ],
      "text/plain": [
       "          PicCount  List Price  Sold Price    Tot BR  Tot Baths  TotFlArea  \\\n",
       "R2050687 -2.302161   -0.861236   -0.914670 -0.657683  -0.807609  -0.862037   \n",
       "R2050161 -2.643100   -0.344493   -0.385520  0.869434   0.947883   0.213822   \n",
       "R2049384  0.766285   -0.038619    0.480363  0.869434   0.947883   0.086644   \n",
       "\n",
       "               Age  TotalPrkng     # Rms  Fireplaces     ...      Zoning 159  \\\n",
       "R2050687 -0.520211   -0.127012 -1.111587    1.527118     ...             0.0   \n",
       "R2050161 -0.287701   -0.127012  0.155713    1.527118     ...             0.0   \n",
       "R2049384  0.099816   -0.127012  0.155713    1.527118     ...             0.0   \n",
       "\n",
       "          Zoning 160  Zoning 161  Zoning 162  Zoning 163  Zoning 164  \\\n",
       "R2050687         0.0         0.0         0.0         0.0         0.0   \n",
       "R2050161         0.0         0.0         0.0         0.0         0.0   \n",
       "R2049384         0.0         0.0         0.0         0.0         0.0   \n",
       "\n",
       "          Zoning 165  Zoning 166  Zoning 167  Zoning 168  \n",
       "R2050687         0.0         0.0         0.0         0.0  \n",
       "R2050161         0.0         0.0         0.0         0.0  \n",
       "R2049384         0.0         0.0         0.0         0.0  \n",
       "\n",
       "[3 rows x 775 columns]"
      ]
     },
     "execution_count": 6,
     "metadata": {},
     "output_type": "execute_result"
    }
   ],
   "source": [
    "# read data in\n",
    "df = pd.read_csv('data/df_775feat.csv', header=0, index_col=0)\n",
    "df.head(3)"
   ]
  },
  {
   "cell_type": "markdown",
   "metadata": {},
   "source": [
    "### Load ML libraries"
   ]
  },
  {
   "cell_type": "code",
   "execution_count": 7,
   "metadata": {},
   "outputs": [],
   "source": [
    "from sklearn.model_selection import train_test_split\n",
    "from sklearn.metrics import mean_squared_error, r2_score\n",
    "#\n",
    "from sklearn import linear_model\n",
    "from sklearn import tree"
   ]
  },
  {
   "cell_type": "markdown",
   "metadata": {},
   "source": [
    "### Select variables and split in train/dev/test sets"
   ]
  },
  {
   "cell_type": "code",
   "execution_count": 14,
   "metadata": {},
   "outputs": [],
   "source": [
    "num_features = ['PicCount', 'Tot BR', 'Tot Baths', 'TotFlArea', 'Age',\\\n",
    "            'TotalPrkng', '# Rms', 'Fireplaces', 'Gross Taxes',\\\n",
    "            'SP/LP Ratio', 'SP/OLP Ratio', 'Strata Maint Fee', 'View_Score', 'Baths']\n",
    "not_features = ['List Price', 'Sold Price', 'Sold Price Per SQFT']"
   ]
  },
  {
   "cell_type": "code",
   "execution_count": 16,
   "metadata": {},
   "outputs": [],
   "source": [
    "# define feature matrix and response variable\n",
    "X = df.drop(not_features, axis=1)\n",
    "# use numerical features only\n",
    "#X = df[num_features]\n",
    "y = df['Sold Price']"
   ]
  },
  {
   "cell_type": "code",
   "execution_count": 17,
   "metadata": {},
   "outputs": [],
   "source": [
    "# split the dataset into train, dev, test datasets\n",
    "X_tmp, X_test, y_tmp, y_test = train_test_split(X, y, test_size=0.2, random_state=229)\n",
    "X_train, X_dev, y_train, y_dev = train_test_split(X_tmp, y_tmp, test_size=0.25)"
   ]
  },
  {
   "cell_type": "code",
   "execution_count": 18,
   "metadata": {},
   "outputs": [],
   "source": [
    "# have 'List Price' as a proxy of our predictions\n",
    "y1 = df['List Price']\n",
    "y1_tmp, y1_test = train_test_split(y1, test_size=0.2, random_state=229)\n",
    "y1_train, y1_dev = train_test_split(y1_tmp, test_size=0.25)"
   ]
  },
  {
   "cell_type": "markdown",
   "metadata": {},
   "source": [
    "## Fit different models, make predictions and report metrics"
   ]
  },
  {
   "cell_type": "markdown",
   "metadata": {},
   "source": [
    "### Linear Regression"
   ]
  },
  {
   "cell_type": "code",
   "execution_count": 19,
   "metadata": {},
   "outputs": [
    {
     "data": {
      "text/plain": [
       "LinearRegression(copy_X=True, fit_intercept=True, n_jobs=None,\n",
       "         normalize=False)"
      ]
     },
     "execution_count": 19,
     "metadata": {},
     "output_type": "execute_result"
    }
   ],
   "source": [
    "# fit linear regression to train set\n",
    "linreg = linear_model.LinearRegression(fit_intercept=True, normalize=False)\n",
    "linreg.fit(X_train, y_train)"
   ]
  },
  {
   "cell_type": "code",
   "execution_count": 21,
   "metadata": {},
   "outputs": [
    {
     "name": "stdout",
     "output_type": "stream",
     "text": [
      " \n",
      "RMSE on train: 3.168635e-01\n",
      "RMSE on dev: 5.162879e+09\n",
      "RMSE on List Price: 5.162879e+09\n",
      "RMSE of List Price and Sold Price: 1.408523e+00\n",
      " \n",
      "Variance score predictions vs dev -26425163199627255808.000\n",
      " \n",
      "Variance score List Price vs Sold Price -0.977\n"
     ]
    }
   ],
   "source": [
    "# predict sale price on dev set\n",
    "y_pred = linreg.predict(X_dev)\n",
    "\n",
    "# output model metrics\n",
    "# coefficients\n",
    "#print('Coefficients: ', linreg.coef_)\n",
    "print(' ')\n",
    "\n",
    "# RMSE on train data\n",
    "print(\"RMSE on train: %.6e\" % np.sqrt(mean_squared_error(y_train, linreg.predict(X_train))))\n",
    "# RMSE on dev data\n",
    "print(\"RMSE on dev: %.6e\" % np.sqrt(mean_squared_error(y_dev, y_pred)))\n",
    "# RMSE on 'List Price' data\n",
    "print(\"RMSE on List Price: %.6e\" % np.sqrt(mean_squared_error(y1_dev, y_pred)))\n",
    "# RMSE of 'List Price' and dev\n",
    "print(\"RMSE of List Price and Sold Price: %.6e\" % np.sqrt(mean_squared_error(y1_dev, y_dev)))\n",
    "print(' ')\n",
    "\n",
    "# explained variance score: predictions vs dev (1 is perfect)\n",
    "print('Variance score predictions vs dev %.3f' % r2_score(y_dev, y_pred))\n",
    "print(' ')\n",
    "# explained variance score: List Price vs Sold Price (1 is perfect)\n",
    "print('Variance score List Price vs Sold Price %.3f' % r2_score(y1_dev, y_dev))"
   ]
  }
 ],
 "metadata": {
  "kernelspec": {
   "display_name": "Python 3",
   "language": "python",
   "name": "python3"
  },
  "language_info": {
   "codemirror_mode": {
    "name": "ipython",
    "version": 3
   },
   "file_extension": ".py",
   "mimetype": "text/x-python",
   "name": "python",
   "nbconvert_exporter": "python",
   "pygments_lexer": "ipython3",
   "version": "3.6.6"
  }
 },
 "nbformat": 4,
 "nbformat_minor": 2
}
